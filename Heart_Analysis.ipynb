{
 "cells": [
  {
   "cell_type": "code",
   "execution_count": 1,
   "metadata": {},
   "outputs": [],
   "source": [
    "# Attribute info\n",
    "\n",
    "# age\n",
    "# sex\n",
    "# chest pain type (4 values)\n",
    "# resting blood pressure\n",
    "# serum cholestoral in mg/dl\n",
    "# fasting blood sugar > 120 mg/dl\n",
    "# resting electrocardiographic results (values 0,1,2)\n",
    "# maximum heart rate achieved\n",
    "# exercise induced angina\n",
    "# oldpeak = ST depression induced by exercise relative to rest\n",
    "# the slope of the peak exercise ST segment\n",
    "# number of major vessels (0-3) colored by flourosopy\n",
    "# thal: 0 = normal; 1 = fixed defect; 2 = reversable defect\n",
    "# The names and social security numbers of the patients were recently removed from the database, replaced with dummy values."
   ]
  },
  {
   "cell_type": "code",
   "execution_count": 2,
   "metadata": {},
   "outputs": [
    {
     "data": {
      "text/html": [
       "<div>\n",
       "<style scoped>\n",
       "    .dataframe tbody tr th:only-of-type {\n",
       "        vertical-align: middle;\n",
       "    }\n",
       "\n",
       "    .dataframe tbody tr th {\n",
       "        vertical-align: top;\n",
       "    }\n",
       "\n",
       "    .dataframe thead th {\n",
       "        text-align: right;\n",
       "    }\n",
       "</style>\n",
       "<table border=\"1\" class=\"dataframe\">\n",
       "  <thead>\n",
       "    <tr style=\"text-align: right;\">\n",
       "      <th></th>\n",
       "      <th>age</th>\n",
       "      <th>sex</th>\n",
       "      <th>cp</th>\n",
       "      <th>trestbps</th>\n",
       "      <th>chol</th>\n",
       "      <th>fbs</th>\n",
       "      <th>restecg</th>\n",
       "      <th>thalach</th>\n",
       "      <th>exang</th>\n",
       "      <th>oldpeak</th>\n",
       "      <th>slope</th>\n",
       "      <th>ca</th>\n",
       "      <th>thal</th>\n",
       "      <th>target</th>\n",
       "    </tr>\n",
       "  </thead>\n",
       "  <tbody>\n",
       "    <tr>\n",
       "      <th>0</th>\n",
       "      <td>52</td>\n",
       "      <td>1</td>\n",
       "      <td>0</td>\n",
       "      <td>125</td>\n",
       "      <td>212</td>\n",
       "      <td>0</td>\n",
       "      <td>1</td>\n",
       "      <td>168</td>\n",
       "      <td>0</td>\n",
       "      <td>1.0</td>\n",
       "      <td>2</td>\n",
       "      <td>2</td>\n",
       "      <td>3</td>\n",
       "      <td>0</td>\n",
       "    </tr>\n",
       "    <tr>\n",
       "      <th>1</th>\n",
       "      <td>53</td>\n",
       "      <td>1</td>\n",
       "      <td>0</td>\n",
       "      <td>140</td>\n",
       "      <td>203</td>\n",
       "      <td>1</td>\n",
       "      <td>0</td>\n",
       "      <td>155</td>\n",
       "      <td>1</td>\n",
       "      <td>3.1</td>\n",
       "      <td>0</td>\n",
       "      <td>0</td>\n",
       "      <td>3</td>\n",
       "      <td>0</td>\n",
       "    </tr>\n",
       "    <tr>\n",
       "      <th>2</th>\n",
       "      <td>70</td>\n",
       "      <td>1</td>\n",
       "      <td>0</td>\n",
       "      <td>145</td>\n",
       "      <td>174</td>\n",
       "      <td>0</td>\n",
       "      <td>1</td>\n",
       "      <td>125</td>\n",
       "      <td>1</td>\n",
       "      <td>2.6</td>\n",
       "      <td>0</td>\n",
       "      <td>0</td>\n",
       "      <td>3</td>\n",
       "      <td>0</td>\n",
       "    </tr>\n",
       "    <tr>\n",
       "      <th>3</th>\n",
       "      <td>61</td>\n",
       "      <td>1</td>\n",
       "      <td>0</td>\n",
       "      <td>148</td>\n",
       "      <td>203</td>\n",
       "      <td>0</td>\n",
       "      <td>1</td>\n",
       "      <td>161</td>\n",
       "      <td>0</td>\n",
       "      <td>0.0</td>\n",
       "      <td>2</td>\n",
       "      <td>1</td>\n",
       "      <td>3</td>\n",
       "      <td>0</td>\n",
       "    </tr>\n",
       "    <tr>\n",
       "      <th>4</th>\n",
       "      <td>62</td>\n",
       "      <td>0</td>\n",
       "      <td>0</td>\n",
       "      <td>138</td>\n",
       "      <td>294</td>\n",
       "      <td>1</td>\n",
       "      <td>1</td>\n",
       "      <td>106</td>\n",
       "      <td>0</td>\n",
       "      <td>1.9</td>\n",
       "      <td>1</td>\n",
       "      <td>3</td>\n",
       "      <td>2</td>\n",
       "      <td>0</td>\n",
       "    </tr>\n",
       "    <tr>\n",
       "      <th>...</th>\n",
       "      <td>...</td>\n",
       "      <td>...</td>\n",
       "      <td>...</td>\n",
       "      <td>...</td>\n",
       "      <td>...</td>\n",
       "      <td>...</td>\n",
       "      <td>...</td>\n",
       "      <td>...</td>\n",
       "      <td>...</td>\n",
       "      <td>...</td>\n",
       "      <td>...</td>\n",
       "      <td>...</td>\n",
       "      <td>...</td>\n",
       "      <td>...</td>\n",
       "    </tr>\n",
       "    <tr>\n",
       "      <th>1020</th>\n",
       "      <td>59</td>\n",
       "      <td>1</td>\n",
       "      <td>1</td>\n",
       "      <td>140</td>\n",
       "      <td>221</td>\n",
       "      <td>0</td>\n",
       "      <td>1</td>\n",
       "      <td>164</td>\n",
       "      <td>1</td>\n",
       "      <td>0.0</td>\n",
       "      <td>2</td>\n",
       "      <td>0</td>\n",
       "      <td>2</td>\n",
       "      <td>1</td>\n",
       "    </tr>\n",
       "    <tr>\n",
       "      <th>1021</th>\n",
       "      <td>60</td>\n",
       "      <td>1</td>\n",
       "      <td>0</td>\n",
       "      <td>125</td>\n",
       "      <td>258</td>\n",
       "      <td>0</td>\n",
       "      <td>0</td>\n",
       "      <td>141</td>\n",
       "      <td>1</td>\n",
       "      <td>2.8</td>\n",
       "      <td>1</td>\n",
       "      <td>1</td>\n",
       "      <td>3</td>\n",
       "      <td>0</td>\n",
       "    </tr>\n",
       "    <tr>\n",
       "      <th>1022</th>\n",
       "      <td>47</td>\n",
       "      <td>1</td>\n",
       "      <td>0</td>\n",
       "      <td>110</td>\n",
       "      <td>275</td>\n",
       "      <td>0</td>\n",
       "      <td>0</td>\n",
       "      <td>118</td>\n",
       "      <td>1</td>\n",
       "      <td>1.0</td>\n",
       "      <td>1</td>\n",
       "      <td>1</td>\n",
       "      <td>2</td>\n",
       "      <td>0</td>\n",
       "    </tr>\n",
       "    <tr>\n",
       "      <th>1023</th>\n",
       "      <td>50</td>\n",
       "      <td>0</td>\n",
       "      <td>0</td>\n",
       "      <td>110</td>\n",
       "      <td>254</td>\n",
       "      <td>0</td>\n",
       "      <td>0</td>\n",
       "      <td>159</td>\n",
       "      <td>0</td>\n",
       "      <td>0.0</td>\n",
       "      <td>2</td>\n",
       "      <td>0</td>\n",
       "      <td>2</td>\n",
       "      <td>1</td>\n",
       "    </tr>\n",
       "    <tr>\n",
       "      <th>1024</th>\n",
       "      <td>54</td>\n",
       "      <td>1</td>\n",
       "      <td>0</td>\n",
       "      <td>120</td>\n",
       "      <td>188</td>\n",
       "      <td>0</td>\n",
       "      <td>1</td>\n",
       "      <td>113</td>\n",
       "      <td>0</td>\n",
       "      <td>1.4</td>\n",
       "      <td>1</td>\n",
       "      <td>1</td>\n",
       "      <td>3</td>\n",
       "      <td>0</td>\n",
       "    </tr>\n",
       "  </tbody>\n",
       "</table>\n",
       "<p>1025 rows × 14 columns</p>\n",
       "</div>"
      ],
      "text/plain": [
       "      age  sex  cp  trestbps  chol  fbs  restecg  thalach  exang  oldpeak  \\\n",
       "0      52    1   0       125   212    0        1      168      0      1.0   \n",
       "1      53    1   0       140   203    1        0      155      1      3.1   \n",
       "2      70    1   0       145   174    0        1      125      1      2.6   \n",
       "3      61    1   0       148   203    0        1      161      0      0.0   \n",
       "4      62    0   0       138   294    1        1      106      0      1.9   \n",
       "...   ...  ...  ..       ...   ...  ...      ...      ...    ...      ...   \n",
       "1020   59    1   1       140   221    0        1      164      1      0.0   \n",
       "1021   60    1   0       125   258    0        0      141      1      2.8   \n",
       "1022   47    1   0       110   275    0        0      118      1      1.0   \n",
       "1023   50    0   0       110   254    0        0      159      0      0.0   \n",
       "1024   54    1   0       120   188    0        1      113      0      1.4   \n",
       "\n",
       "      slope  ca  thal  target  \n",
       "0         2   2     3       0  \n",
       "1         0   0     3       0  \n",
       "2         0   0     3       0  \n",
       "3         2   1     3       0  \n",
       "4         1   3     2       0  \n",
       "...     ...  ..   ...     ...  \n",
       "1020      2   0     2       1  \n",
       "1021      1   1     3       0  \n",
       "1022      1   1     2       0  \n",
       "1023      2   0     2       1  \n",
       "1024      1   1     3       0  \n",
       "\n",
       "[1025 rows x 14 columns]"
      ]
     },
     "execution_count": 2,
     "metadata": {},
     "output_type": "execute_result"
    }
   ],
   "source": [
    "import numpy as np\n",
    "import matplotlib.pyplot as plt\n",
    "import pandas as pd\n",
    "df = pd.read_csv (r'heart.csv')\n",
    "df"
   ]
  },
  {
   "cell_type": "code",
   "execution_count": 3,
   "metadata": {},
   "outputs": [
    {
     "name": "stdout",
     "output_type": "stream",
     "text": [
      "Mean age for heart disease : 54.43414634146342\n",
      "Median age for heart disease : 56.0\n",
      "Min age for heart disease : 29\n",
      "Max age for heart disease : 77\n",
      "Mode age for heart disease : 58\n",
      "Variance age for heart disease : 9.072290233244278\n",
      "Std Devn for heart disease : 82.3064500762195\n",
      "\n",
      "Mean values grouped by Gender: \n",
      "           age    trestbps        chol     thalach\n",
      "sex                                               \n",
      "0    55.849359  133.701923  261.455128  150.830128\n",
      "1    53.814867  130.697055  239.237027  148.363254\n"
     ]
    }
   ],
   "source": [
    "# Analysis on Age of people with heart diseases\n",
    "mean1 = df['age'].mean()\n",
    "median1 = df['age'].median()\n",
    "min1 = df['age'].min()\n",
    "max1 = df['age'].max()\n",
    "mode1 = df['age'].mode()[0]\n",
    "std1 = df['age'].std() \n",
    "var1 = df['age'].var()  \n",
    "\n",
    "print(\"Mean age for heart disease : \" + str(mean1))\n",
    "print(\"Median age for heart disease : \" + str(median1))\n",
    "print(\"Min age for heart disease : \" + str(min1))\n",
    "print(\"Max age for heart disease : \" + str(max1))\n",
    "print(\"Mode age for heart disease : \" + str(mode1))\n",
    "print(\"Variance age for heart disease : \" + str(std1))\n",
    "print(\"Std Devn for heart disease : \" + str(var1))\n",
    "\n",
    "#Based on Gender (1-male, 0-female)\n",
    "print()\n",
    "cols = ['age','sex','trestbps','chol','thalach']\n",
    "df1 = df[cols]\n",
    "groupby_mean_male = df1.groupby(['sex']).mean()\n",
    "print(\"Mean values grouped by Gender: \")\n",
    "print(groupby_mean_male)"
   ]
  },
  {
   "cell_type": "code",
   "execution_count": 4,
   "metadata": {},
   "outputs": [
    {
     "name": "stdout",
     "output_type": "stream",
     "text": [
      "Mean Resting BP : 131.61170731707318\n",
      "Mean Serum Cholestoral : 246.0\n",
      "Mean Max Heart rate : 149.11414634146342\n"
     ]
    }
   ],
   "source": [
    "# Mean of other vital parameters of people with heart diseases\n",
    "\n",
    "mean_bp = df['trestbps'].mean()\n",
    "print(\"Mean Resting BP : \" + str(mean_bp))\n",
    "\n",
    "mean_ch = df['chol'].mean()\n",
    "print(\"Mean Serum Cholestoral : \" + str(mean_ch))\n",
    "\n",
    "mean_mhr = df['thalach'].mean()\n",
    "print(\"Mean Max Heart rate : \" + str(mean_mhr))\n",
    "\n",
    "# print(\"Analysis on mean values : \")\n",
    "# cols1 = ['age','trestbps','chol','thalach']\n",
    "# df_stats = df[cols1]\n",
    "# print(df_stats.mean())"
   ]
  },
  {
   "cell_type": "code",
   "execution_count": 5,
   "metadata": {},
   "outputs": [
    {
     "name": "stdout",
     "output_type": "stream",
     "text": [
      "Median Resting BP : 130.0\n",
      "Median Serum Cholestoral : 240.0\n",
      "Median Max Heart rate : 152.0\n"
     ]
    }
   ],
   "source": [
    "# Median of other vital parameters of people with heart diseases\n",
    "\n",
    "median_bp = df['trestbps'].median()\n",
    "print(\"Median Resting BP : \" + str(median_bp))\n",
    "\n",
    "median_ch = df['chol'].median()\n",
    "print(\"Median Serum Cholestoral : \" + str(median_ch))\n",
    "\n",
    "median_mhr = df['thalach'].median()\n",
    "print(\"Median Max Heart rate : \" + str(median_mhr))"
   ]
  },
  {
   "cell_type": "code",
   "execution_count": 6,
   "metadata": {},
   "outputs": [
    {
     "name": "stdout",
     "output_type": "stream",
     "text": [
      "Variance of Resting BP : 306.835409679878\n",
      "Variance of Serum Cholestoral : 2661.787109375\n",
      "Variance of Max Heart rate : 529.2633250762195\n"
     ]
    }
   ],
   "source": [
    "# Variance of other vital parameters of people with heart diseases\n",
    "\n",
    "v_bp = df['trestbps'].var()\n",
    "print(\"Variance of Resting BP : \" + str(v_bp))\n",
    "\n",
    "v_ch = df['chol'].var()\n",
    "print(\"Variance of Serum Cholestoral : \" + str(v_ch))\n",
    "\n",
    "v_mhr = df['thalach'].var()\n",
    "print(\"Variance of Max Heart rate : \" + str(v_mhr))\n"
   ]
  },
  {
   "cell_type": "code",
   "execution_count": 7,
   "metadata": {},
   "outputs": [
    {
     "name": "stdout",
     "output_type": "stream",
     "text": [
      "Std devn of Resting BP : 17.516718005376408\n",
      "Std devn of Serum Cholestoral : 51.59251020618206\n",
      "Std devn of Max Heart rate : 23.005723745977207\n"
     ]
    }
   ],
   "source": [
    "# Std devn of other vital parameters of people with heart diseases\n",
    "\n",
    "s_bp = df['trestbps'].std()\n",
    "print(\"Std devn of Resting BP : \" + str(s_bp))\n",
    "\n",
    "s_ch = df['chol'].std()\n",
    "print(\"Std devn of Serum Cholestoral : \" + str(s_ch))\n",
    "\n",
    "s_mhr = df['thalach'].std()\n",
    "print(\"Std devn of Max Heart rate : \" + str(s_mhr))\n"
   ]
  },
  {
   "cell_type": "code",
   "execution_count": 8,
   "metadata": {},
   "outputs": [
    {
     "name": "stdout",
     "output_type": "stream",
     "text": [
      "Analysis on Covariance values : \n",
      "\n",
      "                 age    trestbps         chol     thalach\n",
      "age        82.306450   43.085733   102.890625  -81.446089\n",
      "trestbps   43.085733  306.835410   115.657227  -15.822822\n",
      "chol      102.890625  115.657227  2661.787109  -25.841797\n",
      "thalach   -81.446089  -15.822822   -25.841797  529.263325\n",
      "\n",
      "Analysis on Correlation values : \n",
      "\n",
      "               age  trestbps      chol   thalach\n",
      "age       1.000000  0.271121  0.219823 -0.390227\n",
      "trestbps  0.271121  1.000000  0.127977 -0.039264\n",
      "chol      0.219823  0.127977  1.000000 -0.021772\n",
      "thalach  -0.390227 -0.039264 -0.021772  1.000000\n"
     ]
    }
   ],
   "source": [
    "# Covariance and Correlation\n",
    "\n",
    "print(\"Analysis on Covariance values : \")\n",
    "print()\n",
    "cols1 = ['age','trestbps','chol','thalach']\n",
    "df_stats = df[cols1]\n",
    "print(df_stats.cov())\n",
    "print()\n",
    "\n",
    "print(\"Analysis on Correlation values : \")\n",
    "print()\n",
    "cols1 = ['age','trestbps','chol','thalach']\n",
    "df_stats = df[cols1]\n",
    "print(df_stats.corr())"
   ]
  },
  {
   "cell_type": "code",
   "execution_count": 9,
   "metadata": {},
   "outputs": [
    {
     "name": "stdout",
     "output_type": "stream",
     "text": [
      "Two way table\n"
     ]
    },
    {
     "data": {
      "text/html": [
       "<div>\n",
       "<style scoped>\n",
       "    .dataframe tbody tr th:only-of-type {\n",
       "        vertical-align: middle;\n",
       "    }\n",
       "\n",
       "    .dataframe tbody tr th {\n",
       "        vertical-align: top;\n",
       "    }\n",
       "\n",
       "    .dataframe thead th {\n",
       "        text-align: right;\n",
       "    }\n",
       "</style>\n",
       "<table border=\"1\" class=\"dataframe\">\n",
       "  <thead>\n",
       "    <tr style=\"text-align: right;\">\n",
       "      <th>cp</th>\n",
       "      <th>0</th>\n",
       "      <th>1</th>\n",
       "      <th>2</th>\n",
       "      <th>3</th>\n",
       "    </tr>\n",
       "    <tr>\n",
       "      <th>sex</th>\n",
       "      <th></th>\n",
       "      <th></th>\n",
       "      <th></th>\n",
       "      <th></th>\n",
       "    </tr>\n",
       "  </thead>\n",
       "  <tbody>\n",
       "    <tr>\n",
       "      <th>0</th>\n",
       "      <td>133</td>\n",
       "      <td>57</td>\n",
       "      <td>109</td>\n",
       "      <td>13</td>\n",
       "    </tr>\n",
       "    <tr>\n",
       "      <th>1</th>\n",
       "      <td>364</td>\n",
       "      <td>110</td>\n",
       "      <td>175</td>\n",
       "      <td>64</td>\n",
       "    </tr>\n",
       "  </tbody>\n",
       "</table>\n",
       "</div>"
      ],
      "text/plain": [
       "cp     0    1    2   3\n",
       "sex                   \n",
       "0    133   57  109  13\n",
       "1    364  110  175  64"
      ]
     },
     "execution_count": 9,
     "metadata": {},
     "output_type": "execute_result"
    }
   ],
   "source": [
    "#EDA\n",
    "\n",
    "print(\"Two way table\")\n",
    "pd.crosstab(index = df['sex'], columns = df['cp'], dropna = True)"
   ]
  },
  {
   "cell_type": "code",
   "execution_count": 10,
   "metadata": {},
   "outputs": [
    {
     "name": "stdout",
     "output_type": "stream",
     "text": [
      "Joint probability\n"
     ]
    },
    {
     "data": {
      "text/html": [
       "<div>\n",
       "<style scoped>\n",
       "    .dataframe tbody tr th:only-of-type {\n",
       "        vertical-align: middle;\n",
       "    }\n",
       "\n",
       "    .dataframe tbody tr th {\n",
       "        vertical-align: top;\n",
       "    }\n",
       "\n",
       "    .dataframe thead th {\n",
       "        text-align: right;\n",
       "    }\n",
       "</style>\n",
       "<table border=\"1\" class=\"dataframe\">\n",
       "  <thead>\n",
       "    <tr style=\"text-align: right;\">\n",
       "      <th>cp</th>\n",
       "      <th>0</th>\n",
       "      <th>1</th>\n",
       "      <th>2</th>\n",
       "      <th>3</th>\n",
       "    </tr>\n",
       "    <tr>\n",
       "      <th>sex</th>\n",
       "      <th></th>\n",
       "      <th></th>\n",
       "      <th></th>\n",
       "      <th></th>\n",
       "    </tr>\n",
       "  </thead>\n",
       "  <tbody>\n",
       "    <tr>\n",
       "      <th>0</th>\n",
       "      <td>0.129756</td>\n",
       "      <td>0.055610</td>\n",
       "      <td>0.106341</td>\n",
       "      <td>0.012683</td>\n",
       "    </tr>\n",
       "    <tr>\n",
       "      <th>1</th>\n",
       "      <td>0.355122</td>\n",
       "      <td>0.107317</td>\n",
       "      <td>0.170732</td>\n",
       "      <td>0.062439</td>\n",
       "    </tr>\n",
       "  </tbody>\n",
       "</table>\n",
       "</div>"
      ],
      "text/plain": [
       "cp          0         1         2         3\n",
       "sex                                        \n",
       "0    0.129756  0.055610  0.106341  0.012683\n",
       "1    0.355122  0.107317  0.170732  0.062439"
      ]
     },
     "execution_count": 10,
     "metadata": {},
     "output_type": "execute_result"
    }
   ],
   "source": [
    "print(\"Joint probability\")\n",
    "pd.crosstab(index = df['sex'], columns = df['cp'], normalize = True, dropna = True)"
   ]
  },
  {
   "cell_type": "code",
   "execution_count": 11,
   "metadata": {},
   "outputs": [
    {
     "name": "stdout",
     "output_type": "stream",
     "text": [
      "Marginal probability\n"
     ]
    },
    {
     "data": {
      "text/html": [
       "<div>\n",
       "<style scoped>\n",
       "    .dataframe tbody tr th:only-of-type {\n",
       "        vertical-align: middle;\n",
       "    }\n",
       "\n",
       "    .dataframe tbody tr th {\n",
       "        vertical-align: top;\n",
       "    }\n",
       "\n",
       "    .dataframe thead th {\n",
       "        text-align: right;\n",
       "    }\n",
       "</style>\n",
       "<table border=\"1\" class=\"dataframe\">\n",
       "  <thead>\n",
       "    <tr style=\"text-align: right;\">\n",
       "      <th>cp</th>\n",
       "      <th>0</th>\n",
       "      <th>1</th>\n",
       "      <th>2</th>\n",
       "      <th>3</th>\n",
       "      <th>All</th>\n",
       "    </tr>\n",
       "    <tr>\n",
       "      <th>sex</th>\n",
       "      <th></th>\n",
       "      <th></th>\n",
       "      <th></th>\n",
       "      <th></th>\n",
       "      <th></th>\n",
       "    </tr>\n",
       "  </thead>\n",
       "  <tbody>\n",
       "    <tr>\n",
       "      <th>0</th>\n",
       "      <td>0.129756</td>\n",
       "      <td>0.055610</td>\n",
       "      <td>0.106341</td>\n",
       "      <td>0.012683</td>\n",
       "      <td>0.30439</td>\n",
       "    </tr>\n",
       "    <tr>\n",
       "      <th>1</th>\n",
       "      <td>0.355122</td>\n",
       "      <td>0.107317</td>\n",
       "      <td>0.170732</td>\n",
       "      <td>0.062439</td>\n",
       "      <td>0.69561</td>\n",
       "    </tr>\n",
       "    <tr>\n",
       "      <th>All</th>\n",
       "      <td>0.484878</td>\n",
       "      <td>0.162927</td>\n",
       "      <td>0.277073</td>\n",
       "      <td>0.075122</td>\n",
       "      <td>1.00000</td>\n",
       "    </tr>\n",
       "  </tbody>\n",
       "</table>\n",
       "</div>"
      ],
      "text/plain": [
       "cp          0         1         2         3      All\n",
       "sex                                                 \n",
       "0    0.129756  0.055610  0.106341  0.012683  0.30439\n",
       "1    0.355122  0.107317  0.170732  0.062439  0.69561\n",
       "All  0.484878  0.162927  0.277073  0.075122  1.00000"
      ]
     },
     "execution_count": 11,
     "metadata": {},
     "output_type": "execute_result"
    }
   ],
   "source": [
    "print(\"Marginal probability\")\n",
    "pd.crosstab(index = df['sex'], columns = df['cp'], margins = True, normalize = True, dropna = True)"
   ]
  },
  {
   "cell_type": "code",
   "execution_count": 12,
   "metadata": {},
   "outputs": [
    {
     "name": "stdout",
     "output_type": "stream",
     "text": [
      "Conditional probability of Type of Chest pain given Gender\n"
     ]
    },
    {
     "data": {
      "text/html": [
       "<div>\n",
       "<style scoped>\n",
       "    .dataframe tbody tr th:only-of-type {\n",
       "        vertical-align: middle;\n",
       "    }\n",
       "\n",
       "    .dataframe tbody tr th {\n",
       "        vertical-align: top;\n",
       "    }\n",
       "\n",
       "    .dataframe thead th {\n",
       "        text-align: right;\n",
       "    }\n",
       "</style>\n",
       "<table border=\"1\" class=\"dataframe\">\n",
       "  <thead>\n",
       "    <tr style=\"text-align: right;\">\n",
       "      <th>cp</th>\n",
       "      <th>0</th>\n",
       "      <th>1</th>\n",
       "      <th>2</th>\n",
       "      <th>3</th>\n",
       "    </tr>\n",
       "    <tr>\n",
       "      <th>sex</th>\n",
       "      <th></th>\n",
       "      <th></th>\n",
       "      <th></th>\n",
       "      <th></th>\n",
       "    </tr>\n",
       "  </thead>\n",
       "  <tbody>\n",
       "    <tr>\n",
       "      <th>0</th>\n",
       "      <td>0.426282</td>\n",
       "      <td>0.182692</td>\n",
       "      <td>0.349359</td>\n",
       "      <td>0.041667</td>\n",
       "    </tr>\n",
       "    <tr>\n",
       "      <th>1</th>\n",
       "      <td>0.510519</td>\n",
       "      <td>0.154278</td>\n",
       "      <td>0.245442</td>\n",
       "      <td>0.089762</td>\n",
       "    </tr>\n",
       "    <tr>\n",
       "      <th>All</th>\n",
       "      <td>0.484878</td>\n",
       "      <td>0.162927</td>\n",
       "      <td>0.277073</td>\n",
       "      <td>0.075122</td>\n",
       "    </tr>\n",
       "  </tbody>\n",
       "</table>\n",
       "</div>"
      ],
      "text/plain": [
       "cp          0         1         2         3\n",
       "sex                                        \n",
       "0    0.426282  0.182692  0.349359  0.041667\n",
       "1    0.510519  0.154278  0.245442  0.089762\n",
       "All  0.484878  0.162927  0.277073  0.075122"
      ]
     },
     "execution_count": 12,
     "metadata": {},
     "output_type": "execute_result"
    }
   ],
   "source": [
    "print(\"Conditional probability of Type of Chest pain given Gender\")\n",
    "pd.crosstab(index = df['sex'], columns = df['cp'], margins = True, normalize = 'index', dropna = True)"
   ]
  },
  {
   "cell_type": "code",
   "execution_count": 13,
   "metadata": {},
   "outputs": [
    {
     "name": "stdout",
     "output_type": "stream",
     "text": [
      "Conditional probability of Gender given Type of Chest pain\n"
     ]
    },
    {
     "data": {
      "text/html": [
       "<div>\n",
       "<style scoped>\n",
       "    .dataframe tbody tr th:only-of-type {\n",
       "        vertical-align: middle;\n",
       "    }\n",
       "\n",
       "    .dataframe tbody tr th {\n",
       "        vertical-align: top;\n",
       "    }\n",
       "\n",
       "    .dataframe thead th {\n",
       "        text-align: right;\n",
       "    }\n",
       "</style>\n",
       "<table border=\"1\" class=\"dataframe\">\n",
       "  <thead>\n",
       "    <tr style=\"text-align: right;\">\n",
       "      <th>cp</th>\n",
       "      <th>0</th>\n",
       "      <th>1</th>\n",
       "      <th>2</th>\n",
       "      <th>3</th>\n",
       "      <th>All</th>\n",
       "    </tr>\n",
       "    <tr>\n",
       "      <th>sex</th>\n",
       "      <th></th>\n",
       "      <th></th>\n",
       "      <th></th>\n",
       "      <th></th>\n",
       "      <th></th>\n",
       "    </tr>\n",
       "  </thead>\n",
       "  <tbody>\n",
       "    <tr>\n",
       "      <th>0</th>\n",
       "      <td>0.267606</td>\n",
       "      <td>0.341317</td>\n",
       "      <td>0.383803</td>\n",
       "      <td>0.168831</td>\n",
       "      <td>0.30439</td>\n",
       "    </tr>\n",
       "    <tr>\n",
       "      <th>1</th>\n",
       "      <td>0.732394</td>\n",
       "      <td>0.658683</td>\n",
       "      <td>0.616197</td>\n",
       "      <td>0.831169</td>\n",
       "      <td>0.69561</td>\n",
       "    </tr>\n",
       "  </tbody>\n",
       "</table>\n",
       "</div>"
      ],
      "text/plain": [
       "cp          0         1         2         3      All\n",
       "sex                                                 \n",
       "0    0.267606  0.341317  0.383803  0.168831  0.30439\n",
       "1    0.732394  0.658683  0.616197  0.831169  0.69561"
      ]
     },
     "execution_count": 13,
     "metadata": {},
     "output_type": "execute_result"
    }
   ],
   "source": [
    "print(\"Conditional probability of Gender given Type of Chest pain\")\n",
    "pd.crosstab(index = df['sex'], columns = df['cp'], margins = True, normalize = 'columns', dropna = True)"
   ]
  },
  {
   "cell_type": "code",
   "execution_count": 14,
   "metadata": {},
   "outputs": [
    {
     "data": {
      "image/png": "[encoded data removed]",
      "text/plain": [
       "<Figure size 432x288 with 1 Axes>"
      ]
     },
     "metadata": {
      "needs_background": "light"
     },
     "output_type": "display_data"
    }
   ],
   "source": [
    "#Histograms\n",
    "\n",
    "import matplotlib.pyplot as plt\n",
    "plt.hist(df['age'],bins=5)\n",
    "plt.title(\"Age vs Freq\")\n",
    "plt.xlabel(\"Age\")\n",
    "plt.ylabel(\"Frequency\")\n",
    "plt.show()"
   ]
  },
  {
   "cell_type": "code",
   "execution_count": 15,
   "metadata": {},
   "outputs": [
    {
     "data": {
      "image/png": "[encoded data removed]",
      "text/plain": [
       "<Figure size 432x288 with 1 Axes>"
      ]
     },
     "metadata": {
      "needs_background": "light"
     },
     "output_type": "display_data"
    }
   ],
   "source": [
    "import matplotlib.pyplot as plt\n",
    "plt.hist(df['trestbps'],bins=5)\n",
    "plt.title(\"Resting BP vs Freq\")\n",
    "plt.xlabel(\"Resting BP\")\n",
    "plt.ylabel(\"Frequency\")\n",
    "plt.show()"
   ]
  },
  {
   "cell_type": "code",
   "execution_count": 16,
   "metadata": {},
   "outputs": [
    {
     "data": {
      "image/png": "[encoded data removed]",
      "text/plain": [
       "<Figure size 432x288 with 1 Axes>"
      ]
     },
     "metadata": {
      "needs_background": "light"
     },
     "output_type": "display_data"
    }
   ],
   "source": [
    "import matplotlib.pyplot as plt\n",
    "plt.hist(df['chol'],bins=5)\n",
    "plt.title(\"Serum Cholestoral vs Freq\")\n",
    "plt.xlabel(\"Serum Cholestoral\")\n",
    "plt.ylabel(\"Frequency\")\n",
    "plt.show()"
   ]
  },
  {
   "cell_type": "code",
   "execution_count": 17,
   "metadata": {},
   "outputs": [
    {
     "data": {
      "image/png": "[encoded data removed]",
      "text/plain": [
       "<Figure size 432x288 with 1 Axes>"
      ]
     },
     "metadata": {
      "needs_background": "light"
     },
     "output_type": "display_data"
    }
   ],
   "source": [
    "import matplotlib.pyplot as plt\n",
    "plt.hist(df['thalach'],bins=5)\n",
    "plt.title(\"Max Heart rate vs Freq\")\n",
    "plt.xlabel(\"Max Heart rate\")\n",
    "plt.ylabel(\"Frequency\")\n",
    "plt.show()"
   ]
  },
  {
   "cell_type": "code",
   "execution_count": 18,
   "metadata": {},
   "outputs": [
    {
     "data": {
      "image/png": "[encoded data removed]",
      "text/plain": [
       "<Figure size 432x288 with 1 Axes>"
      ]
     },
     "metadata": {
      "needs_background": "light"
     },
     "output_type": "display_data"
    }
   ],
   "source": [
    "# Scatter plot\n",
    "\n",
    "import matplotlib.pyplot as plt\n",
    "plt.scatter(df['age'],df['trestbps'], c = 'green')\n",
    "plt.title(\"Age vs Resting BP\")\n",
    "plt.xlabel(\"Age\")\n",
    "plt.ylabel(\"Resting BP\")\n",
    "plt.show()"
   ]
  },
  {
   "cell_type": "code",
   "execution_count": 19,
   "metadata": {},
   "outputs": [
    {
     "data": {
      "image/png": "[encoded data removed]",
      "text/plain": [
       "<Figure size 432x288 with 1 Axes>"
      ]
     },
     "metadata": {
      "needs_background": "light"
     },
     "output_type": "display_data"
    }
   ],
   "source": [
    "import matplotlib.pyplot as plt\n",
    "plt.scatter(df['age'],df['chol'], c = 'red')\n",
    "plt.title(\"Age vs Serum Cholestoral\")\n",
    "plt.xlabel(\"Age\")\n",
    "plt.ylabel(\"Serum Cholestoral\")\n",
    "plt.show()"
   ]
  },
  {
   "cell_type": "code",
   "execution_count": 20,
   "metadata": {},
   "outputs": [
    {
     "data": {
      "image/png": "[encoded data removed]",
      "text/plain": [
       "<Figure size 432x288 with 1 Axes>"
      ]
     },
     "metadata": {
      "needs_background": "light"
     },
     "output_type": "display_data"
    }
   ],
   "source": [
    "import matplotlib.pyplot as plt\n",
    "plt.scatter(df['age'],df['thalach'], c = 'black')\n",
    "plt.title(\"Age vs Max Heart rate\")\n",
    "plt.xlabel(\"Age\")\n",
    "plt.ylabel(\"Max Heart rate\")\n",
    "plt.show()"
   ]
  },
  {
   "cell_type": "code",
   "execution_count": 21,
   "metadata": {},
   "outputs": [
    {
     "data": {
      "image/png": "[encoded data removed]",
      "text/plain": [
       "<Figure size 432x288 with 1 Axes>"
      ]
     },
     "metadata": {
      "needs_background": "light"
     },
     "output_type": "display_data"
    }
   ],
   "source": [
    "# Barplot\n",
    "\n",
    "target0 = df[(df['target'] == 0)]\n",
    "types0 = ['Resting BP', 'Serum Cholestoral', 'Max Heart rate']\n",
    "index0 = np.arange(len(types0))\n",
    "mean0 = [target0['trestbps'].mean(), target0['chol'].mean(), target0['thalach'].mean()]\n",
    "plt.title(\"Mean parameters for People without Heart disease\")\n",
    "plt.bar(types0, mean0, color = ['green','red','black'])\n",
    "plt.ylabel(\"Mean parameters\")\n",
    "plt.show()"
   ]
  },
  {
   "cell_type": "code",
   "execution_count": 22,
   "metadata": {},
   "outputs": [
    {
     "data": {
      "image/png": "[encoded data removed]",
      "text/plain": [
       "<Figure size 432x288 with 1 Axes>"
      ]
     },
     "metadata": {
      "needs_background": "light"
     },
     "output_type": "display_data"
    }
   ],
   "source": [
    "target1 = df[(df['target'] == 1)]\n",
    "types1 = ['Resting BP', 'Serum Cholestoral', 'Max Heart rate']\n",
    "index1 = np.arange(len(types1))\n",
    "mean1 = [target1['trestbps'].mean(), target1['chol'].mean(), target1['thalach'].mean()]\n",
    "plt.title(\"Mean parameters for People with Heart disease\")\n",
    "plt.bar(types1, mean1, color = ['green','red','black'])\n",
    "plt.ylabel(\"Mean parameters\")\n",
    "plt.show()"
   ]
  },
  {
   "cell_type": "code",
   "execution_count": 23,
   "metadata": {},
   "outputs": [
    {
     "data": {
      "text/plain": [
       "Index(['age', 'sex', 'cp', 'trestbps', 'chol', 'fbs', 'restecg', 'thalach',\n",
       "       'exang', 'oldpeak', 'slope', 'ca', 'thal', 'target'],\n",
       "      dtype='object')"
      ]
     },
     "execution_count": 23,
     "metadata": {},
     "output_type": "execute_result"
    }
   ],
   "source": [
    "df.columns"
   ]
  },
  {
   "cell_type": "code",
   "execution_count": 24,
   "metadata": {},
   "outputs": [
    {
     "name": "stdout",
     "output_type": "stream",
     "text": [
      "<bound method DataFrame.count of       age  sex  cp  trestbps  chol  fbs  restecg  thalach  exang  oldpeak  \\\n",
      "1020   59    1   1       140   221    0        1      164      1      0.0   \n",
      "479    58    1   0       128   216    0        0      131      1      2.2   \n",
      "227    44    0   2       118   242    0        1      149      0      0.3   \n",
      "910    50    1   2       140   233    0        1      163      0      0.6   \n",
      "362    43    0   2       122   213    0        1      165      0      0.2   \n",
      "...   ...  ...  ..       ...   ...  ...      ...      ...    ...      ...   \n",
      "700    41    1   2       130   214    0        0      168      0      2.0   \n",
      "71     61    1   0       140   207    0        0      138      1      1.9   \n",
      "106    51    1   0       140   299    0        1      173      1      1.6   \n",
      "270    43    1   0       110   211    0        1      161      0      0.0   \n",
      "860    52    1   0       112   230    0        1      160      0      0.0   \n",
      "\n",
      "      slope  ca  thal  \n",
      "1020      2   0     2  \n",
      "479       1   3     3  \n",
      "227       1   1     2  \n",
      "910       1   1     3  \n",
      "362       1   0     2  \n",
      "...     ...  ..   ...  \n",
      "700       1   0     2  \n",
      "71        2   1     3  \n",
      "106       2   0     3  \n",
      "270       2   0     3  \n",
      "860       2   1     2  \n",
      "\n",
      "[717 rows x 13 columns]>\n",
      "717\n",
      "<bound method DataFrame.count of      age  sex  cp  trestbps  chol  fbs  restecg  thalach  exang  oldpeak  \\\n",
      "527   62    0   0       124   209    0        1      163      0      0.0   \n",
      "359   53    0   2       128   216    0        0      115      0      0.0   \n",
      "447   55    1   0       160   289    0        0      145      1      0.8   \n",
      "31    50    0   1       120   244    0        1      162      0      1.1   \n",
      "621   48    1   0       130   256    1        0      150      1      0.0   \n",
      "..   ...  ...  ..       ...   ...  ...      ...      ...    ...      ...   \n",
      "668   29    1   1       130   204    0        0      202      0      0.0   \n",
      "239   62    0   0       150   244    0        1      154      1      1.4   \n",
      "312   70    1   2       160   269    0        1      112      1      2.9   \n",
      "211   67    1   0       100   299    0        0      125      1      0.9   \n",
      "861   64    1   2       140   335    0        1      158      0      0.0   \n",
      "\n",
      "     slope  ca  thal  \n",
      "527      2   0     2  \n",
      "359      2   0     0  \n",
      "447      1   1     3  \n",
      "31       2   0     2  \n",
      "621      2   2     3  \n",
      "..     ...  ..   ...  \n",
      "668      2   0     2  \n",
      "239      1   0     2  \n",
      "312      1   1     3  \n",
      "211      1   2     2  \n",
      "861      2   0     2  \n",
      "\n",
      "[308 rows x 13 columns]>\n",
      "308\n"
     ]
    }
   ],
   "source": [
    "from sklearn.model_selection import train_test_split\n",
    "x = df.loc[ : , df.columns != 'target']\n",
    "\n",
    "y = df[\"target\"].values\n",
    "trainx, testx, trainy, testy = train_test_split(x,y,test_size = 0.30, random_state = 42)\n",
    "\n",
    "print(trainx.count)\n",
    "print(trainy.size)\n",
    "print(testx.count)\n",
    "print(testy.size)"
   ]
  },
  {
   "cell_type": "code",
   "execution_count": 25,
   "metadata": {},
   "outputs": [],
   "source": [
    "#Bayesian classifn"
   ]
  },
  {
   "cell_type": "code",
   "execution_count": 26,
   "metadata": {},
   "outputs": [],
   "source": [
    "from sklearn.naive_bayes import GaussianNB\n",
    "model = GaussianNB()\n",
    "model.fit(trainx, trainy)\n",
    "pred1 = model.predict(testx)"
   ]
  },
  {
   "cell_type": "code",
   "execution_count": 27,
   "metadata": {},
   "outputs": [
    {
     "name": "stdout",
     "output_type": "stream",
     "text": [
      "Micro\n",
      "precision: 0.814935064935065\n",
      "recall: 0.814935064935065\n",
      "f1-score: 0.8149350649350651\n"
     ]
    }
   ],
   "source": [
    "from sklearn.metrics import precision_recall_fscore_support as score\n",
    "\n",
    "precision, recall, fscore, support = score(testy, pred1, average = 'micro')\n",
    "print(\"Micro\")\n",
    "print('precision: {}'.format(precision))\n",
    "print('recall: {}'.format(recall))\n",
    "print('f1-score: {}'.format(fscore))"
   ]
  },
  {
   "cell_type": "code",
   "execution_count": 28,
   "metadata": {},
   "outputs": [
    {
     "name": "stdout",
     "output_type": "stream",
     "text": [
      "<sklearn.metrics._plot.precision_recall_curve.PrecisionRecallDisplay object at 0x000002702C304198>\n"
     ]
    },
    {
     "data": {
      "image/png": "[encoded data removed]",
      "text/plain": [
       "<Figure size 432x288 with 1 Axes>"
      ]
     },
     "metadata": {
      "needs_background": "light"
     },
     "output_type": "display_data"
    }
   ],
   "source": [
    "from sklearn.metrics import plot_precision_recall_curve\n",
    "import matplotlib.pyplot as plt\n",
    "\n",
    "disp_bayes = plot_precision_recall_curve(model, testx, testy)\n",
    "print(disp_bayes)"
   ]
  },
  {
   "cell_type": "code",
   "execution_count": 29,
   "metadata": {},
   "outputs": [],
   "source": [
    "#SVM Classifn"
   ]
  },
  {
   "cell_type": "code",
   "execution_count": 30,
   "metadata": {},
   "outputs": [],
   "source": [
    "from sklearn.svm import SVC\n",
    "svclassifier = SVC(kernel='linear')\n",
    "svclassifier.fit(trainx, trainy)\n",
    "pred_svm = svclassifier.predict(testx)"
   ]
  },
  {
   "cell_type": "code",
   "execution_count": 31,
   "metadata": {},
   "outputs": [
    {
     "name": "stdout",
     "output_type": "stream",
     "text": [
      "Micro\n",
      "precision: 0.8084415584415584\n",
      "recall: 0.8084415584415584\n",
      "f1-score: 0.8084415584415584\n"
     ]
    }
   ],
   "source": [
    "from sklearn.metrics import precision_recall_fscore_support as score\n",
    "\n",
    "precision, recall, fscore, support = score(testy, pred_svm, average = 'micro')\n",
    "print(\"Micro\")\n",
    "print('precision: {}'.format(precision))\n",
    "print('recall: {}'.format(recall))\n",
    "print('f1-score: {}'.format(fscore))"
   ]
  },
  {
   "cell_type": "code",
   "execution_count": 32,
   "metadata": {},
   "outputs": [
    {
     "name": "stdout",
     "output_type": "stream",
     "text": [
      "<sklearn.metrics._plot.precision_recall_curve.PrecisionRecallDisplay object at 0x00000270307B0550>\n"
     ]
    },
    {
     "data": {
      "image/png": "[encoded data removed]",
      "text/plain": [
       "<Figure size 432x288 with 1 Axes>"
      ]
     },
     "metadata": {
      "needs_background": "light"
     },
     "output_type": "display_data"
    }
   ],
   "source": [
    "from sklearn.metrics import plot_precision_recall_curve\n",
    "import matplotlib.pyplot as plt\n",
    "\n",
    "disp_SVM = plot_precision_recall_curve(svclassifier, testx, testy)\n",
    "print(disp_SVM)"
   ]
  },
  {
   "cell_type": "code",
   "execution_count": null,
   "metadata": {},
   "outputs": [],
   "source": []
  }
 ],
 "metadata": {
  "kernelspec": {
   "display_name": "Python 3",
   "language": "python",
   "name": "python3"
  },
  "language_info": {
   "codemirror_mode": {
    "name": "ipython",
    "version": 3
   },
   "file_extension": ".py",
   "mimetype": "text/x-python",
   "name": "python",
   "nbconvert_exporter": "python",
   "pygments_lexer": "ipython3",
   "version": "3.7.0"
  }
 },
 "nbformat": 4,
 "nbformat_minor": 4
}
